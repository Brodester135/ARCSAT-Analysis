{
 "cells": [
  {
   "cell_type": "code",
   "execution_count": 8,
   "id": "21007dc1-ae67-43f9-b3c6-ca318fa5b7ce",
   "metadata": {
    "scrolled": true
   },
   "outputs": [
    {
     "ename": "OSError",
     "evalue": "Not enough space on disk: requested 2715904, available 0. Not enough space on disk: requested 2715904, available 0. 678976 requested and 296848 written",
     "output_type": "error",
     "traceback": [
      "\u001b[31m---------------------------------------------------------------------------\u001b[39m",
      "\u001b[31mOSError\u001b[39m                                   Traceback (most recent call last)",
      "\u001b[36mFile \u001b[39m\u001b[32m/opt/conda/lib/python3.12/site-packages/astropy/io/fits/util.py:787\u001b[39m, in \u001b[36m_free_space_check\u001b[39m\u001b[34m(hdulist, dirname)\u001b[39m\n\u001b[32m    786\u001b[39m \u001b[38;5;28;01mtry\u001b[39;00m:\n\u001b[32m--> \u001b[39m\u001b[32m787\u001b[39m     \u001b[38;5;28;01myield\u001b[39;00m\n\u001b[32m    788\u001b[39m \u001b[38;5;28;01mexcept\u001b[39;00m \u001b[38;5;167;01mOSError\u001b[39;00m \u001b[38;5;28;01mas\u001b[39;00m exc:\n",
      "\u001b[36mFile \u001b[39m\u001b[32m/opt/conda/lib/python3.12/site-packages/astropy/io/fits/hdu/base.py:712\u001b[39m, in \u001b[36m_BaseHDU._writeto\u001b[39m\u001b[34m(self, fileobj, inplace, copy)\u001b[39m\n\u001b[32m    711\u001b[39m \u001b[38;5;28;01mwith\u001b[39;00m _free_space_check(\u001b[38;5;28mself\u001b[39m, dirname):\n\u001b[32m--> \u001b[39m\u001b[32m712\u001b[39m     \u001b[38;5;28;43mself\u001b[39;49m\u001b[43m.\u001b[49m\u001b[43m_writeto_internal\u001b[49m\u001b[43m(\u001b[49m\u001b[43mfileobj\u001b[49m\u001b[43m,\u001b[49m\u001b[43m \u001b[49m\u001b[43minplace\u001b[49m\u001b[43m,\u001b[49m\u001b[43m \u001b[49m\u001b[43mcopy\u001b[49m\u001b[43m)\u001b[49m\n",
      "\u001b[36mFile \u001b[39m\u001b[32m/opt/conda/lib/python3.12/site-packages/astropy/io/fits/hdu/base.py:718\u001b[39m, in \u001b[36m_BaseHDU._writeto_internal\u001b[39m\u001b[34m(self, fileobj, inplace, copy)\u001b[39m\n\u001b[32m    717\u001b[39m header_offset, _ = \u001b[38;5;28mself\u001b[39m._writeheader(fileobj)\n\u001b[32m--> \u001b[39m\u001b[32m718\u001b[39m data_offset, data_size = \u001b[38;5;28;43mself\u001b[39;49m\u001b[43m.\u001b[49m\u001b[43m_writedata\u001b[49m\u001b[43m(\u001b[49m\u001b[43mfileobj\u001b[49m\u001b[43m)\u001b[49m\n\u001b[32m    720\u001b[39m \u001b[38;5;66;03m# Set the various data location attributes on newly-written HDUs\u001b[39;00m\n",
      "\u001b[36mFile \u001b[39m\u001b[32m/opt/conda/lib/python3.12/site-packages/astropy/io/fits/hdu/base.py:649\u001b[39m, in \u001b[36m_BaseHDU._writedata\u001b[39m\u001b[34m(self, fileobj)\u001b[39m\n\u001b[32m    648\u001b[39m \u001b[38;5;28;01mif\u001b[39;00m \u001b[38;5;28mself\u001b[39m.data \u001b[38;5;129;01mis\u001b[39;00m \u001b[38;5;129;01mnot\u001b[39;00m \u001b[38;5;28;01mNone\u001b[39;00m:\n\u001b[32m--> \u001b[39m\u001b[32m649\u001b[39m     size += \u001b[38;5;28;43mself\u001b[39;49m\u001b[43m.\u001b[49m\u001b[43m_writedata_internal\u001b[49m\u001b[43m(\u001b[49m\u001b[43mfileobj\u001b[49m\u001b[43m)\u001b[49m\n\u001b[32m    650\u001b[39m \u001b[38;5;66;03m# pad the FITS data block\u001b[39;00m\n\u001b[32m    651\u001b[39m \u001b[38;5;66;03m# to avoid a bug in the lustre filesystem client, don't\u001b[39;00m\n\u001b[32m    652\u001b[39m \u001b[38;5;66;03m# write zero-byte objects\u001b[39;00m\n",
      "\u001b[36mFile \u001b[39m\u001b[32m/opt/conda/lib/python3.12/site-packages/astropy/io/fits/hdu/image.py:681\u001b[39m, in \u001b[36m_ImageBaseHDU._writedata_internal\u001b[39m\u001b[34m(self, fileobj)\u001b[39m\n\u001b[32m    680\u001b[39m \u001b[38;5;28;01mtry\u001b[39;00m:\n\u001b[32m--> \u001b[39m\u001b[32m681\u001b[39m     \u001b[43mfileobj\u001b[49m\u001b[43m.\u001b[49m\u001b[43mwritearray\u001b[49m\u001b[43m(\u001b[49m\u001b[43moutput\u001b[49m\u001b[43m)\u001b[49m\n\u001b[32m    682\u001b[39m \u001b[38;5;28;01mfinally\u001b[39;00m:\n",
      "\u001b[36mFile \u001b[39m\u001b[32m/opt/conda/lib/python3.12/site-packages/astropy/io/fits/file.py:442\u001b[39m, in \u001b[36m_File.writearray\u001b[39m\u001b[34m(self, array)\u001b[39m\n\u001b[32m    441\u001b[39m \u001b[38;5;28;01mif\u001b[39;00m \u001b[38;5;28mhasattr\u001b[39m(\u001b[38;5;28mself\u001b[39m._file, \u001b[33m\"\u001b[39m\u001b[33mwrite\u001b[39m\u001b[33m\"\u001b[39m):\n\u001b[32m--> \u001b[39m\u001b[32m442\u001b[39m     \u001b[43m_array_to_file\u001b[49m\u001b[43m(\u001b[49m\u001b[43marray\u001b[49m\u001b[43m,\u001b[49m\u001b[43m \u001b[49m\u001b[38;5;28;43mself\u001b[39;49m\u001b[43m.\u001b[49m\u001b[43m_file\u001b[49m\u001b[43m)\u001b[49m\n",
      "\u001b[36mFile \u001b[39m\u001b[32m/opt/conda/lib/python3.12/site-packages/astropy/io/fits/util.py:593\u001b[39m, in \u001b[36m_array_to_file\u001b[39m\u001b[34m(arr, outfile)\u001b[39m\n\u001b[32m    591\u001b[39m \u001b[38;5;28;01melse\u001b[39;00m:\n\u001b[32m    592\u001b[39m     \u001b[38;5;66;03m# Just pass the whole array to the write routine\u001b[39;00m\n\u001b[32m--> \u001b[39m\u001b[32m593\u001b[39m     \u001b[38;5;28;01mreturn\u001b[39;00m \u001b[43mwrite\u001b[49m\u001b[43m(\u001b[49m\u001b[43marr\u001b[49m\u001b[43m,\u001b[49m\u001b[43m \u001b[49m\u001b[43moutfile\u001b[49m\u001b[43m)\u001b[49m\n\u001b[32m    595\u001b[39m \u001b[38;5;66;03m# Write one chunk at a time for systems whose fwrite chokes on large\u001b[39;00m\n\u001b[32m    596\u001b[39m \u001b[38;5;66;03m# writes.\u001b[39;00m\n",
      "\u001b[36mFile \u001b[39m\u001b[32m/opt/conda/lib/python3.12/site-packages/astropy/io/fits/util.py:568\u001b[39m, in \u001b[36m_array_to_file.<locals>.<lambda>\u001b[39m\u001b[34m(a, f)\u001b[39m\n\u001b[32m    567\u001b[39m \u001b[38;5;28;01mif\u001b[39;00m isfile(outfile) \u001b[38;5;129;01mand\u001b[39;00m seekable:\n\u001b[32m--> \u001b[39m\u001b[32m568\u001b[39m     write = \u001b[38;5;28;01mlambda\u001b[39;00m a, f: \u001b[43ma\u001b[49m\u001b[43m.\u001b[49m\u001b[43mtofile\u001b[49m\u001b[43m(\u001b[49m\u001b[43mf\u001b[49m\u001b[43m)\u001b[49m\n\u001b[32m    569\u001b[39m \u001b[38;5;28;01melse\u001b[39;00m:\n",
      "\u001b[31mOSError\u001b[39m: 678976 requested and 296848 written",
      "\nDuring handling of the above exception, another exception occurred:\n",
      "\u001b[31mOSError\u001b[39m                                   Traceback (most recent call last)",
      "\u001b[36mFile \u001b[39m\u001b[32m/opt/conda/lib/python3.12/site-packages/astropy/io/fits/util.py:787\u001b[39m, in \u001b[36m_free_space_check\u001b[39m\u001b[34m(hdulist, dirname)\u001b[39m\n\u001b[32m    786\u001b[39m \u001b[38;5;28;01mtry\u001b[39;00m:\n\u001b[32m--> \u001b[39m\u001b[32m787\u001b[39m     \u001b[38;5;28;01myield\u001b[39;00m\n\u001b[32m    788\u001b[39m \u001b[38;5;28;01mexcept\u001b[39;00m \u001b[38;5;167;01mOSError\u001b[39;00m \u001b[38;5;28;01mas\u001b[39;00m exc:\n",
      "\u001b[36mFile \u001b[39m\u001b[32m/opt/conda/lib/python3.12/site-packages/astropy/io/fits/hdu/hdulist.py:1063\u001b[39m, in \u001b[36mHDUList.writeto\u001b[39m\u001b[34m(self, fileobj, output_verify, overwrite, checksum)\u001b[39m\n\u001b[32m   1062\u001b[39m hdu._prewriteto(checksum=checksum)\n\u001b[32m-> \u001b[39m\u001b[32m1063\u001b[39m \u001b[43mhdu\u001b[49m\u001b[43m.\u001b[49m\u001b[43m_writeto\u001b[49m\u001b[43m(\u001b[49m\u001b[43mhdulist\u001b[49m\u001b[43m.\u001b[49m\u001b[43m_file\u001b[49m\u001b[43m)\u001b[49m\n\u001b[32m   1064\u001b[39m hdu._postwriteto()\n",
      "\u001b[36mFile \u001b[39m\u001b[32m/opt/conda/lib/python3.12/site-packages/astropy/io/fits/hdu/base.py:711\u001b[39m, in \u001b[36m_BaseHDU._writeto\u001b[39m\u001b[34m(self, fileobj, inplace, copy)\u001b[39m\n\u001b[32m    709\u001b[39m     dirname = \u001b[38;5;28;01mNone\u001b[39;00m\n\u001b[32m--> \u001b[39m\u001b[32m711\u001b[39m \u001b[38;5;28;01mwith\u001b[39;00m _free_space_check(\u001b[38;5;28mself\u001b[39m, dirname):\n\u001b[32m    712\u001b[39m     \u001b[38;5;28mself\u001b[39m._writeto_internal(fileobj, inplace, copy)\n",
      "\u001b[36mFile \u001b[39m\u001b[32m/opt/conda/lib/python3.12/contextlib.py:158\u001b[39m, in \u001b[36m_GeneratorContextManager.__exit__\u001b[39m\u001b[34m(self, typ, value, traceback)\u001b[39m\n\u001b[32m    157\u001b[39m \u001b[38;5;28;01mtry\u001b[39;00m:\n\u001b[32m--> \u001b[39m\u001b[32m158\u001b[39m     \u001b[38;5;28;43mself\u001b[39;49m\u001b[43m.\u001b[49m\u001b[43mgen\u001b[49m\u001b[43m.\u001b[49m\u001b[43mthrow\u001b[49m\u001b[43m(\u001b[49m\u001b[43mvalue\u001b[49m\u001b[43m)\u001b[49m\n\u001b[32m    159\u001b[39m \u001b[38;5;28;01mexcept\u001b[39;00m \u001b[38;5;167;01mStopIteration\u001b[39;00m \u001b[38;5;28;01mas\u001b[39;00m exc:\n\u001b[32m    160\u001b[39m     \u001b[38;5;66;03m# Suppress StopIteration *unless* it's the same exception that\u001b[39;00m\n\u001b[32m    161\u001b[39m     \u001b[38;5;66;03m# was passed to throw().  This prevents a StopIteration\u001b[39;00m\n\u001b[32m    162\u001b[39m     \u001b[38;5;66;03m# raised inside the \"with\" statement from being suppressed.\u001b[39;00m\n",
      "\u001b[36mFile \u001b[39m\u001b[32m/opt/conda/lib/python3.12/site-packages/astropy/io/fits/util.py:806\u001b[39m, in \u001b[36m_free_space_check\u001b[39m\u001b[34m(hdulist, dirname)\u001b[39m\n\u001b[32m    804\u001b[39m     hdu._close()\n\u001b[32m--> \u001b[39m\u001b[32m806\u001b[39m \u001b[38;5;28;01mraise\u001b[39;00m \u001b[38;5;167;01mOSError\u001b[39;00m(error_message + \u001b[38;5;28mstr\u001b[39m(exc))\n",
      "\u001b[31mOSError\u001b[39m: Not enough space on disk: requested 2715904, available 0. 678976 requested and 296848 written",
      "\nDuring handling of the above exception, another exception occurred:\n",
      "\u001b[31mOSError\u001b[39m                                   Traceback (most recent call last)",
      "\u001b[36mCell\u001b[39m\u001b[36m \u001b[39m\u001b[32mIn[8]\u001b[39m\u001b[32m, line 11\u001b[39m\n\u001b[32m      8\u001b[39m \u001b[38;5;28;01mif\u001b[39;00m \u001b[34m__name__\u001b[39m == \u001b[33m\"\u001b[39m\u001b[33m__main__\u001b[39m\u001b[33m\"\u001b[39m:\n\u001b[32m      9\u001b[39m     data_dir = \u001b[33m\"\u001b[39m\u001b[33mdata/\u001b[39m\u001b[33m\"\u001b[39m\n\u001b[32m---> \u001b[39m\u001b[32m11\u001b[39m     \u001b[43mrun_reduction\u001b[49m\u001b[43m(\u001b[49m\u001b[43mdata_dir\u001b[49m\u001b[43m,\u001b[49m\u001b[43m \u001b[49m\u001b[43mskip\u001b[49m\u001b[43m=\u001b[49m\u001b[38;5;28;43;01mTrue\u001b[39;49;00m\u001b[43m,\u001b[49m\u001b[43m \u001b[49m\u001b[43msave_npy\u001b[49m\u001b[43m=\u001b[49m\u001b[38;5;28;43;01mTrue\u001b[39;49;00m\u001b[43m)\u001b[49m\n",
      "\u001b[36mFile \u001b[39m\u001b[32m~/work/ARCSAT-Analysis/reduction.py:60\u001b[39m, in \u001b[36mrun_reduction\u001b[39m\u001b[34m(data_dir, skip, save_npy)\u001b[39m\n\u001b[32m     58\u001b[39m         \u001b[38;5;28mprint\u001b[39m(\u001b[33mf\u001b[39m\u001b[33m\"\u001b[39m\u001b[33m[info] \u001b[39m\u001b[38;5;132;01m{\u001b[39;00moutput_file\u001b[38;5;132;01m}\u001b[39;00m\u001b[33m already exists. Skipping...\u001b[39m\u001b[33m\"\u001b[39m)\n\u001b[32m     59\u001b[39m     \u001b[38;5;28;01melse\u001b[39;00m:\n\u001b[32m---> \u001b[39m\u001b[32m60\u001b[39m         sci_image = \u001b[43mreduce_science_frame\u001b[49m\u001b[43m(\u001b[49m\u001b[43mscience_list\u001b[49m\u001b[43m[\u001b[49m\u001b[43mi\u001b[49m\u001b[43m]\u001b[49m\u001b[43m,\u001b[49m\n\u001b[32m     61\u001b[39m \u001b[43m                                        \u001b[49m\u001b[43mmedian_bias_filename\u001b[49m\u001b[43m,\u001b[49m\n\u001b[32m     62\u001b[39m \u001b[43m                                        \u001b[49m\u001b[43mmedian_dark_filename\u001b[49m\u001b[43m,\u001b[49m\n\u001b[32m     63\u001b[39m \u001b[43m                                        \u001b[49m\u001b[43mmedian_flat_filename\u001b[49m\u001b[43m,\u001b[49m\n\u001b[32m     64\u001b[39m \u001b[43m                                        \u001b[49m\u001b[43mreduced_science_filename\u001b[49m\u001b[43m=\u001b[49m\u001b[43moutput_file\u001b[49m\u001b[43m)\u001b[49m\n\u001b[32m     65\u001b[39m         science.append(output_file)\n\u001b[32m     67\u001b[39m \u001b[38;5;66;03m#calculate gain    \u001b[39;00m\n",
      "\u001b[36mFile \u001b[39m\u001b[32m~/work/ARCSAT-Analysis/science.py:60\u001b[39m, in \u001b[36mreduce_science_frame\u001b[39m\u001b[34m(science_filename, median_bias_filename, median_dark_filename, median_flat_filename, reduced_science_filename)\u001b[39m\n\u001b[32m     58\u001b[39m science_hdu.header[\u001b[33m'\u001b[39m\u001b[33mDARKFILE\u001b[39m\u001b[33m'\u001b[39m] = (\u001b[33m'\u001b[39m\u001b[33mdark.fits\u001b[39m\u001b[33m'\u001b[39m, \u001b[33m'\u001b[39m\u001b[33mDark image used to subtract dark current\u001b[39m\u001b[33m'\u001b[39m)\n\u001b[32m     59\u001b[39m science_hdu.header[\u001b[33m'\u001b[39m\u001b[33mFLATFILE\u001b[39m\u001b[33m'\u001b[39m] = (\u001b[33m'\u001b[39m\u001b[33mflat_g.fits\u001b[39m\u001b[33m'\u001b[39m, \u001b[33m'\u001b[39m\u001b[33mFlat-field image used to correct flat-fielding\u001b[39m\u001b[33m'\u001b[39m)\n\u001b[32m---> \u001b[39m\u001b[32m60\u001b[39m \u001b[43mscience_hdu\u001b[49m\u001b[43m.\u001b[49m\u001b[43mwriteto\u001b[49m\u001b[43m(\u001b[49m\u001b[43mreduced_science_filename\u001b[49m\u001b[43m,\u001b[49m\u001b[43m \u001b[49m\u001b[43moverwrite\u001b[49m\u001b[43m=\u001b[49m\u001b[38;5;28;43;01mTrue\u001b[39;49;00m\u001b[43m)\u001b[49m \n\u001b[32m     62\u001b[39m \u001b[38;5;28;01mdel\u001b[39;00m science_image, bias, flat, dark, reduced_science, cleaned\n\u001b[32m     63\u001b[39m gc.collect()\n",
      "\u001b[36mFile \u001b[39m\u001b[32m/opt/conda/lib/python3.12/site-packages/astropy/io/fits/hdu/base.py:407\u001b[39m, in \u001b[36m_BaseHDU.writeto\u001b[39m\u001b[34m(self, name, output_verify, overwrite, checksum)\u001b[39m\n\u001b[32m    404\u001b[39m \u001b[38;5;28;01mfrom\u001b[39;00m\u001b[38;5;250m \u001b[39m\u001b[34;01m.\u001b[39;00m\u001b[34;01mhdulist\u001b[39;00m\u001b[38;5;250m \u001b[39m\u001b[38;5;28;01mimport\u001b[39;00m HDUList\n\u001b[32m    406\u001b[39m hdulist = HDUList([\u001b[38;5;28mself\u001b[39m])\n\u001b[32m--> \u001b[39m\u001b[32m407\u001b[39m \u001b[43mhdulist\u001b[49m\u001b[43m.\u001b[49m\u001b[43mwriteto\u001b[49m\u001b[43m(\u001b[49m\u001b[43mname\u001b[49m\u001b[43m,\u001b[49m\u001b[43m \u001b[49m\u001b[43moutput_verify\u001b[49m\u001b[43m,\u001b[49m\u001b[43m \u001b[49m\u001b[43moverwrite\u001b[49m\u001b[43m=\u001b[49m\u001b[43moverwrite\u001b[49m\u001b[43m,\u001b[49m\u001b[43m \u001b[49m\u001b[43mchecksum\u001b[49m\u001b[43m=\u001b[49m\u001b[43mchecksum\u001b[49m\u001b[43m)\u001b[49m\n",
      "\u001b[36mFile \u001b[39m\u001b[32m/opt/conda/lib/python3.12/site-packages/astropy/io/fits/hdu/hdulist.py:1060\u001b[39m, in \u001b[36mHDUList.writeto\u001b[39m\u001b[34m(self, fileobj, output_verify, overwrite, checksum)\u001b[39m\n\u001b[32m   1057\u001b[39m     dirname = \u001b[38;5;28;01mNone\u001b[39;00m\n\u001b[32m   1059\u001b[39m \u001b[38;5;28;01mtry\u001b[39;00m:\n\u001b[32m-> \u001b[39m\u001b[32m1060\u001b[39m     \u001b[38;5;28;01mwith\u001b[39;00m _free_space_check(\u001b[38;5;28mself\u001b[39m, dirname=dirname):\n\u001b[32m   1061\u001b[39m         \u001b[38;5;28;01mfor\u001b[39;00m hdu \u001b[38;5;129;01min\u001b[39;00m \u001b[38;5;28mself\u001b[39m:\n\u001b[32m   1062\u001b[39m             hdu._prewriteto(checksum=checksum)\n",
      "\u001b[36mFile \u001b[39m\u001b[32m/opt/conda/lib/python3.12/contextlib.py:158\u001b[39m, in \u001b[36m_GeneratorContextManager.__exit__\u001b[39m\u001b[34m(self, typ, value, traceback)\u001b[39m\n\u001b[32m    156\u001b[39m     value = typ()\n\u001b[32m    157\u001b[39m \u001b[38;5;28;01mtry\u001b[39;00m:\n\u001b[32m--> \u001b[39m\u001b[32m158\u001b[39m     \u001b[38;5;28;43mself\u001b[39;49m\u001b[43m.\u001b[49m\u001b[43mgen\u001b[49m\u001b[43m.\u001b[49m\u001b[43mthrow\u001b[49m\u001b[43m(\u001b[49m\u001b[43mvalue\u001b[49m\u001b[43m)\u001b[49m\n\u001b[32m    159\u001b[39m \u001b[38;5;28;01mexcept\u001b[39;00m \u001b[38;5;167;01mStopIteration\u001b[39;00m \u001b[38;5;28;01mas\u001b[39;00m exc:\n\u001b[32m    160\u001b[39m     \u001b[38;5;66;03m# Suppress StopIteration *unless* it's the same exception that\u001b[39;00m\n\u001b[32m    161\u001b[39m     \u001b[38;5;66;03m# was passed to throw().  This prevents a StopIteration\u001b[39;00m\n\u001b[32m    162\u001b[39m     \u001b[38;5;66;03m# raised inside the \"with\" statement from being suppressed.\u001b[39;00m\n\u001b[32m    163\u001b[39m     \u001b[38;5;28;01mreturn\u001b[39;00m exc \u001b[38;5;129;01mis\u001b[39;00m \u001b[38;5;129;01mnot\u001b[39;00m value\n",
      "\u001b[36mFile \u001b[39m\u001b[32m/opt/conda/lib/python3.12/site-packages/astropy/io/fits/util.py:806\u001b[39m, in \u001b[36m_free_space_check\u001b[39m\u001b[34m(hdulist, dirname)\u001b[39m\n\u001b[32m    803\u001b[39m \u001b[38;5;28;01mfor\u001b[39;00m hdu \u001b[38;5;129;01min\u001b[39;00m hdulist:\n\u001b[32m    804\u001b[39m     hdu._close()\n\u001b[32m--> \u001b[39m\u001b[32m806\u001b[39m \u001b[38;5;28;01mraise\u001b[39;00m \u001b[38;5;167;01mOSError\u001b[39;00m(error_message + \u001b[38;5;28mstr\u001b[39m(exc))\n",
      "\u001b[31mOSError\u001b[39m: Not enough space on disk: requested 2715904, available 0. Not enough space on disk: requested 2715904, available 0. 678976 requested and 296848 written"
     ]
    }
   ],
   "source": [
    "import numpy as np\n",
    "import polars\n",
    "import seaborn\n",
    "import glob\n",
    "import gc\n",
    "from reduction import run_reduction\n",
    "\n",
    "if __name__ == \"__main__\":\n",
    "    data_dir = \"data/\"\n",
    "\n",
    "    run_reduction(data_dir, skip=True, save_npy=True)"
   ]
  },
  {
   "cell_type": "code",
   "execution_count": null,
   "id": "f6b3c91d-bd66-47f6-a678-97f016d2106b",
   "metadata": {},
   "outputs": [],
   "source": []
  }
 ],
 "metadata": {
  "kernelspec": {
   "display_name": "Python 3 (ipykernel)",
   "language": "python",
   "name": "python3"
  },
  "language_info": {
   "codemirror_mode": {
    "name": "ipython",
    "version": 3
   },
   "file_extension": ".py",
   "mimetype": "text/x-python",
   "name": "python",
   "nbconvert_exporter": "python",
   "pygments_lexer": "ipython3",
   "version": "3.12.9"
  }
 },
 "nbformat": 4,
 "nbformat_minor": 5
}
