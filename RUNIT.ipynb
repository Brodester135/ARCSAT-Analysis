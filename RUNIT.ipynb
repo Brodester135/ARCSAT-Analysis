{
 "cells": [
  {
   "cell_type": "code",
   "execution_count": 6,
   "id": "21007dc1-ae67-43f9-b3c6-ca318fa5b7ce",
   "metadata": {
    "scrolled": true
   },
   "outputs": [
    {
     "name": "stdout",
     "output_type": "stream",
     "text": [
      "Gain: 1.41 e-/ADU\n",
      "Gain = 1.41 e-/ADU\n",
      "Readout noise (ADU): 12.28 ADU\n",
      "Readout noise (e-): 17.35 e-\n",
      "Readout Noise = 17.35 e-\n",
      "centering images\n",
      "[i] solving WCS for all images...\n",
      "[x] No images were solved; cannot continue anymore boss\n",
      "No reprojected images found in /home/jovyan/work/ARCSAT-Analysis/data with pattern 'reduced_science*'\n"
     ]
    }
   ],
   "source": [
    "import numpy as np\n",
    "import polars\n",
    "import seaborn\n",
    "import glob\n",
    "import gc\n",
    "from reduction import run_reduction\n",
    "\n",
    "if __name__ == \"__main__\":\n",
    "    data_dir = \"Data/\"\n",
    "\n",
    "    run_reduction(data_dir, skip=True, save_npy=True)"
   ]
  },
  {
   "cell_type": "code",
   "execution_count": null,
   "id": "f6b3c91d-bd66-47f6-a678-97f016d2106b",
   "metadata": {},
   "outputs": [],
   "source": []
  }
 ],
 "metadata": {
  "kernelspec": {
   "display_name": "Python 3 (ipykernel)",
   "language": "python",
   "name": "python3"
  },
  "language_info": {
   "codemirror_mode": {
    "name": "ipython",
    "version": 3
   },
   "file_extension": ".py",
   "mimetype": "text/x-python",
   "name": "python",
   "nbconvert_exporter": "python",
   "pygments_lexer": "ipython3",
   "version": "3.12.9"
  }
 },
 "nbformat": 4,
 "nbformat_minor": 5
}
